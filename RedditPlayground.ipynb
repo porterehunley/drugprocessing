{
 "cells": [
  {
   "cell_type": "code",
   "execution_count": 1,
   "metadata": {},
   "outputs": [
    {
     "name": "stdout",
     "output_type": "stream",
     "text": [
      "9X6KeIRzAOmXlQ\n",
      "9X6KeIRzAOmXlQ\n"
     ]
    }
   ],
   "source": [
    "import praw\n",
    "from dotenv import load_dotenv\n",
    "import os\n",
    "\n",
    "\n",
    "load_dotenv()\n",
    "CLIENT_ID=os.getenv('REDDIT_CLIENT_ID') or '9X6KeIRzAOmXlQ'\n",
    "CLIENT_SECRET=os.getenv('REDDIT_CLIENT_SECRET') or 'KGFEAZNPDEHYJBl_akskrkVUfWxfTw'\n",
    "PASSWORD=os.getenv('PASSWORD') or '2@cgXtbc54M3Whn'\n",
    "USERNAME=os.getenv('USERNAME') or 'thirstycsstudent'\n",
    "\n",
    "print(CLIENT_ID)\n",
    "print(os.getenv('REDDIT_CLIENT_ID'))"
   ]
  },
  {
   "cell_type": "code",
   "execution_count": 2,
   "metadata": {},
   "outputs": [],
   "source": [
    "reddit = praw.Reddit(client_id=CLIENT_ID, client_secret=CLIENT_SECRET,\n",
    "                     password=PASSWORD, user_agent=\"drug processing agent python\",\n",
    "                     username=USERNAME)"
   ]
  },
  {
   "cell_type": "code",
   "execution_count": 4,
   "metadata": {},
   "outputs": [
    {
     "name": "stdout",
     "output_type": "stream",
     "text": [
      "Ask Anything Monday - Weekly Thread\n",
      "what did you automate with Python to speed up your your productivity ??\n",
      "Exercises to learn Pandas\n",
      "What is recursion actually used for?\n",
      "So, I've been bitten by the python bug. Are these books decent for my goals, which have helped you:\n",
      "Just wrote my first real Regex's for Advent of Code Day 4\n",
      "How to change my path in windows so I can have my newest python?\n",
      "Why is there a need for NOT operator in Python? For example, instead of saying \" (a >= b) is not true\", why not just simply say \"(a >= b) = False\"?\n",
      "Anyone know how to read/write to \"Excel Online\" spreadsheets with Selenium?\n",
      "Is it possible to pause an infinite loop thats runnning in terminal/CMD (i dont want to hard code anything into the script) ? I want to then be able to resume script at any time i want. I dont want restart the script from the beginning. i want it to resume from where the loop was paused\n"
     ]
    }
   ],
   "source": [
    "# You can obtain subreddit instances by passing in the subreddit name and then getting comments submissions etc\n",
    "# Let's see if we can't get a list of relevant subreddits to process \n",
    "\n",
    "for submission in reddit.subreddit(\"learnpython\").hot(limit=10):\n",
    "    print(submission.title)"
   ]
  },
  {
   "cell_type": "code",
   "execution_count": 8,
   "metadata": {},
   "outputs": [
    {
     "name": "stdout",
     "output_type": "stream",
     "text": [
      "Deep dive into the the off-label use of gabapentin (Neurontin) for pain and mental health disorders, and the history of deceptive off-label marketing from big pharma companies. Millions are using it for off-label purposes, but there's barely any evidence that it works.\n",
      "Gabapentin increases GABA biosynthesis, and decreases glutamate biosynthesis.\n",
      "Trends in gabapentin and baclofen exposures reported to U.S. poison centers | Clinical Toxicology [2019]\n",
      "Caffeine prevents antihyperalgesic effect of gabapentin in an animal model of CRPS-I: evidence for the involvement of spinal adenosine A1 receptor.\n",
      "The Gabapentin delima. Is the opioid crisis pushing physicians to a 'safer painkiller,' that is anything but?\n",
      "Gabapentin over-hyped and underwhelming\n",
      "Does Gabapentin actually increase GABA tolerance?\n",
      "How addictive are gabapentin and pregabalin? A systematic review\n",
      "Alpha-2-delta (gabapentin) receptor is a very important receptor for mantaining heart rhythm.\n",
      "Agmatine selectively blocks the NMDA subclass of glutamate receptor channels in hippocampal neurons\n",
      "Question regarding GABAPentin\n",
      "Lyrica and Gabapentin - Recreational use scheduling, staggering, breaks, etc. - x-post from r/drugs and r/pregabalin\n",
      "Gabapentin and alcohol\n",
      "Anxious to Drink: Gabapentin Normalizes GABAergic Transmission in the Central Amygdala and Reduces Symptoms of Ethanol Dependence\n",
      "Cross tolerance from combining kava kava and gabapentin?\n",
      "Effect of gabapentin on sleep and delta and theta EEG power in adult rats exposed to chronic intermittent ethanol vapor and protracted withdrawal during adolescence (2018)\n",
      "Gabapentin misuse, abuse and diversion: a systematic review. (2016)\n",
      "Gabapentin + Nicotine Synergy (or lack thereof)\n",
      "R-phenibut binds to the α2-δ subunit of voltage-dependent calcium channels and exerts gabapentin-like anti-nociceptive effects (2015)\n",
      "Benzodiazepine/Phenibut/Pregabalin/Gabapentin/Ethanol cross tolerances? (/r/drugs cross post)\n",
      "study finds that gabapentin may treat alcohol dependence\n",
      "Uridine monophosphate and Gabapentin\n",
      "Optical isomers of phenibut inhibit [H3]-Gabapentin binding in vitro and show activity in animal models of chronic pain (2015)\n",
      "Inhibition of astrocyte activation is involved in the prevention of postoperative latent pain sensitization by ketamine and gabapentin in mice (2016)\n",
      "An Exceptionally Vivid Description of Benzodiazepine Withdrawal; Doing Justice to the Hell One Actually Experiences\n",
      "Benzodiazepine equivalency chart for anyone debating changing (based on a stnadars 10 mg diazepam, Valium)\n",
      "Gabapentinoids.\n",
      "Potential treatment for those with Hypersensitivity & ADHD Issues - Seretonin Antagonists\n",
      "The medicinal chemistry and neuropharmacology of kratom: A preliminary discussion of a promising medicinal plant and analysis of its potential for abuse | Neuropharmacology [2018]\n",
      "Passionflower an antagonist of the GABA-B receptors? How does this affect Baclofen, Phenibut?\n",
      "Phenibut & Synaptogenesis\n",
      "GABA\n",
      "Why is Kratom so Important, What's the Big Deal?\n",
      "Hippocampal GABA enables inhibitory control over unwanted thoughts\n",
      "Pharmacology of F-Phenibut compared to Baclofen and Phenibut.\n",
      "Phenibut and synaptic toxicity\n",
      "Do medical marijuana laws reduce addictions and deaths related to pain killers?\n",
      "Pharmacological activity of 3-oxaspiro[4.5]decan-2-one\n",
      "Needed: highly volatile solvent for clonazolam that leaves no residue to make clonazolam glitter hits.\n",
      "Suggestions for a reagent kit false-positive test\n",
      "Wherefore Gabapentinoids?: Was There Rush Too Soon to Judgment? (2016)\n",
      "Selective GABAb agonist baclofen exacerbates learned helplessness and reversed the antidepressant effect of desipramine in rats (PSA RE: PHENIBUT)\n",
      "High dose Bupropion interfering with Amphetamine metabolism? Amphetamines having no effect.\n"
     ]
    }
   ],
   "source": [
    "drugNerds = reddit.subreddit('DrugNerds')\n",
    "for thing in drugNerds.search('Gabapentin'):\n",
    "    print(thing.title)\n"
   ]
  },
  {
   "cell_type": "code",
   "execution_count": null,
   "metadata": {},
   "outputs": [],
   "source": [
    "# 1. Get a hotlist of drugs to analyze and narrow down our search with \n",
    "# 2. Search a hotlist of subreddits for the drugs name for posts \n",
    "# 3. Get the comment trees of the posts and parse the comment trees \n",
    "subReddits = ['medicine', 'drugs', 'DrugNerds', 'AskDocs', 'medicalschool', 'premed']\n",
    "\n",
    "\n",
    "with open('drughotlist.txt') as f:\n",
    "    for drug in f:\n",
    "        for subRedditName in subReddits:\n",
    "            subreddit = reddit.subreddit(subRedditName)\n",
    "            \n",
    "    "
   ]
  }
 ],
 "metadata": {
  "kernelspec": {
   "display_name": "Python 3",
   "language": "python",
   "name": "python3"
  },
  "language_info": {
   "codemirror_mode": {
    "name": "ipython",
    "version": 3
   },
   "file_extension": ".py",
   "mimetype": "text/x-python",
   "name": "python",
   "nbconvert_exporter": "python",
   "pygments_lexer": "ipython3",
   "version": "3.7.1"
  }
 },
 "nbformat": 4,
 "nbformat_minor": 4
}
