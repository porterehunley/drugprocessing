{
 "cells": [
  {
   "cell_type": "markdown",
   "metadata": {},
   "source": [
    "# Clinical Trials Data Processing"
   ]
  },
  {
   "cell_type": "markdown",
   "metadata": {},
   "source": [
    "## Goal\n",
    "\n",
    "- To get a basic data processing pipeline outlined \n",
    "- To get the results we need to build a MVP \n",
    "- To understand future steps for more advanced study p"
   ]
  },
  {
   "cell_type": "code",
   "execution_count": 2,
   "metadata": {},
   "outputs": [],
   "source": [
    "# I think we just need to get all the studies and filter out the ones with results manually \n",
    "# We can make a module for this later\n",
    "# The conditions can be easily parsed but we need to bucket them -> maybe make a model for that??\n",
    "# The demographics are the easiest to get out of this\n",
    "# Effectiveness - this can be done by averaging the difference between placebo and results, thought we \n",
    "# first have to filter the studies that have a placebo \n",
    "#\n",
    "# Fields to be "
   ]
  },
  {
   "cell_type": "code",
   "execution_count": 18,
   "metadata": {},
   "outputs": [],
   "source": [
    "import requests\n",
    "import pandas\n",
    "\n",
    "API_BASE_URL='https://clinicaltrials.gov/api/query'"
   ]
  },
  {
   "cell_type": "markdown",
   "metadata": {},
   "source": [
    "### Interfacing with ClinicalTrials.gov"
   ]
  },
  {
   "cell_type": "code",
   "execution_count": 15,
   "metadata": {},
   "outputs": [],
   "source": [
    "# First a basic API interface\n",
    "\n",
    "def get_studies_by_expression(expression):\n",
    "    r = requests.get(API_BASE_URL + '/full_studies?expr={expr}&min_rnk=1&max_rnk=99&fmt=json'\n",
    "                     .format(expr=expression))\n",
    "    return r.json()\n",
    "\n",
    "def get_conditions_for_drug(drug):\n",
    "    r = requests.get(API_BASE_URL + '/field_values?expr={drug}&field=ConditionAncestorTerm&fmt=json'\n",
    "                     .format(drug=drug))\n",
    "    \n",
    "    return r.json()"
   ]
  },
  {
   "cell_type": "markdown",
   "metadata": {},
   "source": [
    "### Consolidate the Conditions Data\n",
    "\n",
    "- Need to get all the conditions in a formatted dataframe to parse the other results"
   ]
  },
  {
   "cell_type": "code",
   "execution_count": null,
   "metadata": {},
   "outputs": [],
   "source": []
  }
 ],
 "metadata": {
  "kernelspec": {
   "display_name": "Python 3",
   "language": "python",
   "name": "python3"
  },
  "language_info": {
   "codemirror_mode": {
    "name": "ipython",
    "version": 3
   },
   "file_extension": ".py",
   "mimetype": "text/x-python",
   "name": "python",
   "nbconvert_exporter": "python",
   "pygments_lexer": "ipython3",
   "version": "3.7.1"
  }
 },
 "nbformat": 4,
 "nbformat_minor": 4
}
